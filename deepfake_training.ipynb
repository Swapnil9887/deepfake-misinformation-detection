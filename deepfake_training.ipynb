{
 "cells": [
  {
   "cell_type": "code",
   "execution_count": 12,
   "metadata": {},
   "outputs": [
    {
     "name": "stdout",
     "output_type": "stream",
     "text": [
      "🚀 Training started...\n",
      "\n",
      "✅ Epoch 1/5, Loss: 1.2451\n",
      "✅ Epoch 2/5, Loss: 0.5318\n",
      "✅ Epoch 3/5, Loss: 0.4619\n",
      "✅ Epoch 4/5, Loss: 0.3976\n",
      "✅ Epoch 5/5, Loss: 0.3315\n",
      "\n",
      "🎉 Model training complete! ✅\n",
      "🔥 Trained model saved as 'models/deepfake_model.pth'\n"
     ]
    }
   ],
   "source": [
    "import os\n",
    "import torch\n",
    "import torchvision.transforms as transforms\n",
    "import torchvision.datasets as datasets\n",
    "from torch.utils.data import DataLoader\n",
    "import torch.nn as nn\n",
    "import torch.optim as optim\n",
    "\n",
    "# Ensure 'models/' directory exists\n",
    "os.makedirs(\"models\", exist_ok=True)\n",
    "\n",
    "# Load Dataset\n",
    "transform = transforms.Compose([\n",
    "    transforms.Resize((128, 128)),\n",
    "    transforms.ToTensor()\n",
    "])\n",
    "\n",
    "train_dataset = datasets.ImageFolder(root=\"data/\", transform=transform)\n",
    "train_loader = DataLoader(train_dataset, batch_size=32, shuffle=True)\n",
    "\n",
    "# Define CNN Model\n",
    "class DeepFakeDetector(nn.Module):\n",
    "    def __init__(self):\n",
    "        super(DeepFakeDetector, self).__init__()\n",
    "        self.conv1 = nn.Conv2d(3, 32, kernel_size=3, stride=1, padding=1)\n",
    "        self.relu = nn.ReLU()\n",
    "        self.pool = nn.MaxPool2d(kernel_size=2, stride=2)\n",
    "\n",
    "        # Dummy forward pass to calculate the correct input size for FC layer\n",
    "        with torch.no_grad():\n",
    "            dummy_input = torch.zeros(1, 3, 128, 128)  # Example input\n",
    "            dummy_output = self.pool(self.relu(self.conv1(dummy_input)))\n",
    "            self.flatten_size = dummy_output.view(1, -1).shape[1]\n",
    "\n",
    "        self.fc1 = nn.Linear(self.flatten_size, 2)  # Updated FC layer\n",
    "\n",
    "    def forward(self, x):\n",
    "        x = self.pool(self.relu(self.conv1(x)))\n",
    "        x = x.view(x.size(0), -1)  # Flatten dynamically\n",
    "        x = self.fc1(x)\n",
    "        return x\n",
    "\n",
    "\n",
    "# Train Model\n",
    "device = torch.device(\"cuda\" if torch.cuda.is_available() else \"cpu\")\n",
    "model = DeepFakeDetector().to(device)\n",
    "criterion = nn.CrossEntropyLoss()\n",
    "optimizer = optim.Adam(model.parameters(), lr=0.001)\n",
    "\n",
    "print(\"🚀 Training started...\\n\")\n",
    "\n",
    "for epoch in range(5):\n",
    "    total_loss = 0\n",
    "    for images, labels in train_loader:\n",
    "        images, labels = images.to(device), labels.to(device)\n",
    "        optimizer.zero_grad()\n",
    "        outputs = model(images)\n",
    "        loss = criterion(outputs, labels)\n",
    "        loss.backward()\n",
    "        optimizer.step()\n",
    "        total_loss += loss.item()\n",
    "\n",
    "    avg_loss = total_loss / len(train_loader)\n",
    "    print(f\"✅ Epoch {epoch+1}/{5}, Loss: {avg_loss:.4f}\")\n",
    "\n",
    "# Save the trained model\n",
    "torch.save(model.state_dict(), \"models/deepfake_model.pth\")\n",
    "\n",
    "print(\"\\n🎉 Model training complete! ✅\")\n",
    "print(\"🔥 Trained model saved as 'models/deepfake_model.pth'\")\n",
    "\n"
   ]
  },
  {
   "cell_type": "code",
   "execution_count": null,
   "metadata": {},
   "outputs": [
    {
     "name": "stdout",
     "output_type": "stream",
     "text": [
      "✅ Fake News Model trained and saved successfully!\n"
     ]
    }
   ],
   "source": [
    "import pandas as pd\n",
    "from sklearn.feature_extraction.text import TfidfVectorizer\n",
    "import pickle\n",
    "import os\n",
    "\n",
    "# Ensure the models directory exists\n",
    "os.makedirs(\"models\", exist_ok=True)\n",
    "\n",
    "# Load dataset\n",
    "df = pd.read_csv(\"data/news_dataset.csv\").dropna()\n",
    "\n",
    "# Check if the required column exists\n",
    "if \"text\" not in df.columns:\n",
    "    raise Exception(\"❌ Column 'text' not found in 'news_dataset.csv'. Check your dataset!\")\n",
    "\n",
    "# Train TF-IDF Model\n",
    "vectorizer = TfidfVectorizer(stop_words=\"english\")\n",
    "tfidf_matrix = vectorizer.fit_transform(df[\"text\"])\n",
    "\n",
    "# Save Model\n",
    "with open(\"models/fake_news_model.pkl\", \"wb\") as model_file:\n",
    "    pickle.dump(vectorizer, model_file)\n",
    "\n",
    "print(\"✅ Fake News Model trained and saved successfully!\")\n",
    "\n",
    "\n"
   ]
  },
  {
   "cell_type": "code",
   "execution_count": null,
   "metadata": {},
   "outputs": [
    {
     "name": "stdout",
     "output_type": "stream",
     "text": [
      "✅ Fake News Model trained and saved successfully!\n"
     ]
    }
   ],
   "source": [
    "import pandas as pd\n",
    "from sklearn.feature_extraction.text import TfidfVectorizer\n",
    "import pickle\n",
    "import os\n",
    "\n",
    "# Ensure the models directory exists\n",
    "os.makedirs(\"models\", exist_ok=True)\n",
    "\n",
    "# Load dataset\n",
    "df = pd.read_csv(\"data/news_dataset.csv\").dropna()\n",
    "\n",
    "# Check if the required column exists\n",
    "if \"text\" not in df.columns:\n",
    "    raise Exception(\"❌ Column 'text' not found in 'news_dataset.csv'. Check your dataset!\")\n",
    "\n",
    "# Train TF-IDF Model\n",
    "vectorizer = TfidfVectorizer(stop_words=\"english\")\n",
    "tfidf_matrix = vectorizer.fit_transform(df[\"text\"])\n",
    "\n",
    "# Save Model\n",
    "with open(\"models/fake_news_model.pkl\", \"wb\") as model_file:\n",
    "    pickle.dump(vectorizer, model_file)\n",
    "\n",
    "print(\"✅ Fake News Model trained and saved successfully!\")\n",
    "\n",
    "\n"
   ]
  }
 ],
 "metadata": {
  "kernelspec": {
   "display_name": "Python 3",
   "language": "python",
   "name": "python3"
  },
  "language_info": {
   "codemirror_mode": {
    "name": "ipython",
    "version": 3
   },
   "file_extension": ".py",
   "mimetype": "text/x-python",
   "name": "python",
   "nbconvert_exporter": "python",
   "pygments_lexer": "ipython3",
   "version": "3.9.6"
  }
 },
 "nbformat": 4,
 "nbformat_minor": 2
}
