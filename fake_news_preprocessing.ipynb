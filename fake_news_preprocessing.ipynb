{
 "cells": [
  {
   "cell_type": "code",
   "execution_count": 6,
   "metadata": {},
   "outputs": [
    {
     "name": "stdout",
     "output_type": "stream",
     "text": [
      "✅ Fake News Model trained and saved successfully!\n"
     ]
    }
   ],
   "source": [
    "import pandas as pd\n",
    "from sklearn.feature_extraction.text import TfidfVectorizer\n",
    "import pickle\n",
    "import os\n",
    "\n",
    "# Ensure the models directory exists\n",
    "os.makedirs(\"models\", exist_ok=True)\n",
    "\n",
    "# Load dataset\n",
    "df = pd.read_csv(\"data/news_dataset.csv\").dropna()\n",
    "\n",
    "# Check if the required column exists\n",
    "if \"text\" not in df.columns:\n",
    "    raise Exception(\"❌ Column 'text' not found in 'news_dataset.csv'. Check your dataset!\")\n",
    "\n",
    "# Train TF-IDF Model\n",
    "vectorizer = TfidfVectorizer(stop_words=\"english\")\n",
    "tfidf_matrix = vectorizer.fit_transform(df[\"text\"])\n",
    "\n",
    "# Save Model\n",
    "with open(\"models/fake_news_model.pkl\", \"wb\") as model_file:\n",
    "    pickle.dump(vectorizer, model_file)\n",
    "\n",
    "print(\"✅ Fake News Model trained and saved successfully!\")\n",
    "\n",
    "\n"
   ]
  }
 ],
 "metadata": {
  "kernelspec": {
   "display_name": "Python 3",
   "language": "python",
   "name": "python3"
  },
  "language_info": {
   "codemirror_mode": {
    "name": "ipython",
    "version": 3
   },
   "file_extension": ".py",
   "mimetype": "text/x-python",
   "name": "python",
   "nbconvert_exporter": "python",
   "pygments_lexer": "ipython3",
   "version": "3.9.6"
  }
 },
 "nbformat": 4,
 "nbformat_minor": 2
}
