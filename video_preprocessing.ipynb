{
 "cells": [
  {
   "cell_type": "code",
   "execution_count": 3,
   "metadata": {},
   "outputs": [
    {
     "name": "stderr",
     "output_type": "stream",
     "text": [
      "OpenCV: Couldn't read video stream from file \"data/deepfake_videos/.DS_Store\"\n"
     ]
    },
    {
     "name": "stdout",
     "output_type": "stream",
     "text": [
      "Extracted 0 frames from .DS_Store\n",
      "Extracted 210 frames from fake_01.mp4\n",
      "Extracted 1044 frames from fake_03.mp4\n",
      "Extracted 578 frames from fake_02.mp4\n",
      "Extracted 217 frames from fake_06.mp4\n",
      "Extracted 808 frames from fake_07.mp4\n",
      "Extracted 841 frames from fake_05.mp4\n",
      "Extracted 905 frames from fake_04.mp4\n",
      "Extracted 455 frames from fake_10.mp4\n",
      "Extracted 220 frames from fake_09.mp4\n",
      "Extracted 773 frames from fake_08.mp4\n",
      "Extracted 0 frames from .DS_Store\n"
     ]
    },
    {
     "name": "stderr",
     "output_type": "stream",
     "text": [
      "OpenCV: Couldn't read video stream from file \"data/real_videos/.DS_Store\"\n"
     ]
    },
    {
     "name": "stdout",
     "output_type": "stream",
     "text": [
      "Extracted 1085 frames from real_07.mp4\n",
      "Extracted 860 frames from real_06.mp4\n",
      "Extracted 1045 frames from real_04.mp4\n",
      "Extracted 405 frames from real_10.mp4\n",
      "Extracted 965 frames from real_05.mp4\n",
      "Extracted 305 frames from real_01.mp4\n",
      "Extracted 787 frames from real_02.mp4\n",
      "Extracted 560 frames from real_03.mp4\n",
      "Extracted 834 frames from real_08.mp4\n",
      "Extracted 306 frames from real_09.mp4\n"
     ]
    }
   ],
   "source": [
    "import cv2\n",
    "import os\n",
    "\n",
    "# Define input/output directories\n",
    "video_dirs = [\"data/deepfake_videos\", \"data/real_videos\"]\n",
    "image_dirs = [\"data/deepfake_images\", \"data/real_images\"]\n",
    "\n",
    "# Create directories if they don’t exist\n",
    "for directory in image_dirs:\n",
    "    os.makedirs(directory, exist_ok=True)\n",
    "\n",
    "# Function to extract frames from videos\n",
    "def extract_frames(video_dir, image_dir):\n",
    "    for video_name in os.listdir(video_dir):\n",
    "        video_path = os.path.join(video_dir, video_name)\n",
    "        cap = cv2.VideoCapture(video_path)\n",
    "        frame_count = 0\n",
    "\n",
    "        while cap.isOpened():\n",
    "            ret, frame = cap.read()\n",
    "            if not ret:\n",
    "                break\n",
    "            \n",
    "            frame_path = os.path.join(image_dir, f\"{video_name}_frame{frame_count}.jpg\")\n",
    "            cv2.imwrite(frame_path, frame)\n",
    "            frame_count += 1\n",
    "\n",
    "        cap.release()\n",
    "        print(f\"Extracted {frame_count} frames from {video_name}\")\n",
    "\n",
    "# Extract frames from both real and fake videos\n",
    "for i in range(len(video_dirs)):\n",
    "    extract_frames(video_dirs[i], image_dirs[i])\n"
   ]
  }
 ],
 "metadata": {
  "kernelspec": {
   "display_name": "Python 3",
   "language": "python",
   "name": "python3"
  },
  "language_info": {
   "codemirror_mode": {
    "name": "ipython",
    "version": 3
   },
   "file_extension": ".py",
   "mimetype": "text/x-python",
   "name": "python",
   "nbconvert_exporter": "python",
   "pygments_lexer": "ipython3",
   "version": "3.9.6"
  }
 },
 "nbformat": 4,
 "nbformat_minor": 2
}
